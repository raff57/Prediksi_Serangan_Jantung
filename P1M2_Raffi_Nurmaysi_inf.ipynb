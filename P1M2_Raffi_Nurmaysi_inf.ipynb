{
 "cells": [
  {
   "cell_type": "markdown",
   "id": "fa755a79",
   "metadata": {},
   "source": [
    "## Import Libraries"
   ]
  },
  {
   "cell_type": "code",
   "execution_count": 23,
   "id": "4e83bf3a",
   "metadata": {},
   "outputs": [],
   "source": [
    "import pandas as pd\n",
    "import pickle\n",
    "import json\n",
    "import numpy as np"
   ]
  },
  {
   "cell_type": "code",
   "execution_count": 24,
   "id": "f5ff4f62",
   "metadata": {},
   "outputs": [],
   "source": [
    "with open('pipe_knn.pkl', 'rb') as file:\n",
    "  model = pickle.load(file)"
   ]
  },
  {
   "cell_type": "markdown",
   "id": "083ac4ce",
   "metadata": {},
   "source": [
    "# 10. Model Inference"
   ]
  },
  {
   "cell_type": "code",
   "execution_count": 25,
   "id": "85516eb8",
   "metadata": {},
   "outputs": [],
   "source": [
    "\n",
    "import pandas as pd\n",
    "\n",
    "# Misal ini isi dictionary kamu\n",
    "data_baru = {\n",
    "    'age': 52,\n",
    "    'cholesterol': 220,\n",
    "    'heart_rate': 78,\n",
    "    'diabetes': 1,\n",
    "    'family_history': 1,\n",
    "    'smoking': 0,\n",
    "    'obesity': 1,\n",
    "    'alcohol_consumption': 2,\n",
    "    'exercise_hours_per_week': 1,\n",
    "    'previous_heart_problems': 1,\n",
    "    'medication_use': 1,\n",
    "    'stress_level': 7,\n",
    "    'sedentary_hours_per_day': 10,\n",
    "    'income': 3000,\n",
    "    'bmi': 31.4,\n",
    "    'triglycerides': 180,\n",
    "    'physical_activity_days_per_week': 1,\n",
    "    'sleep_hours_per_day': 5,\n",
    "    'systolic': 135,\n",
    "    'diastolic': 85,\n",
    "    'sex_Male': 1,              # kolom hasil one-hot: isi 1 jika laki-laki\n",
    "    'diet_Healthy': 0,          # isi 1 jika diet sehat\n",
    "    'diet_Unhealthy': 1         # isi 1 jika diet tidak sehat\n",
    "}"
   ]
  },
  {
   "cell_type": "code",
   "execution_count": 26,
   "id": "dee56a9e",
   "metadata": {},
   "outputs": [
    {
     "name": "stdout",
     "output_type": "stream",
     "text": [
      "Prediksi risiko serangan jantung: 0\n"
     ]
    }
   ],
   "source": [
    "import pandas as pd\n",
    "\n",
    "# Buat DataFrame\n",
    "data_baru_df = pd.DataFrame([data_baru])\n",
    "\n",
    "# Prediksi\n",
    "prediksi = model.predict(data_baru_df)\n",
    "print(\"Prediksi risiko serangan jantung:\", prediksi[0])"
   ]
  },
  {
   "cell_type": "markdown",
   "id": "3f17e1d8",
   "metadata": {},
   "source": [
    "# 11. Pengambilan Kesimpulan"
   ]
  }
 ],
 "metadata": {
  "kernelspec": {
   "display_name": "base",
   "language": "python",
   "name": "python3"
  },
  "language_info": {
   "codemirror_mode": {
    "name": "ipython",
    "version": 3
   },
   "file_extension": ".py",
   "mimetype": "text/x-python",
   "name": "python",
   "nbconvert_exporter": "python",
   "pygments_lexer": "ipython3",
   "version": "3.12.7"
  }
 },
 "nbformat": 4,
 "nbformat_minor": 5
}
